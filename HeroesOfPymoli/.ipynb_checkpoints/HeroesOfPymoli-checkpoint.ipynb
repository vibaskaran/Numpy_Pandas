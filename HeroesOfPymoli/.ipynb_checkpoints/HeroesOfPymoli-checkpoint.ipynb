{
 "cells": [
  {
   "cell_type": "code",
   "execution_count": 1,
   "metadata": {
    "collapsed": true
   },
   "outputs": [],
   "source": [
    "import pandas as pd\n",
    "import numpy as np"
   ]
  },
  {
   "cell_type": "code",
   "execution_count": 2,
   "metadata": {
    "collapsed": true
   },
   "outputs": [],
   "source": [
    "Heroes_original_df = pd.read_json('raw_data/purchase_data.json')"
   ]
  },
  {
   "cell_type": "code",
   "execution_count": 3,
   "metadata": {},
   "outputs": [
    {
     "name": "stdout",
     "output_type": "stream",
     "text": [
      "<class 'pandas.core.frame.DataFrame'>\n",
      "Int64Index: 780 entries, 0 to 779\n",
      "Data columns (total 6 columns):\n",
      "Age          780 non-null int64\n",
      "Gender       780 non-null object\n",
      "Item ID      780 non-null int64\n",
      "Item Name    780 non-null object\n",
      "Price        780 non-null float64\n",
      "SN           780 non-null object\n",
      "dtypes: float64(1), int64(2), object(3)\n",
      "memory usage: 42.7+ KB\n"
     ]
    }
   ],
   "source": [
    "Heroes_original_df.info()"
   ]
  },
  {
   "cell_type": "code",
   "execution_count": 4,
   "metadata": {},
   "outputs": [
    {
     "data": {
      "text/plain": [
       "Index(['Age', 'Gender', 'Item ID', 'Item Name', 'Price', 'SN'], dtype='object')"
      ]
     },
     "execution_count": 4,
     "metadata": {},
     "output_type": "execute_result"
    }
   ],
   "source": [
    "Heroes_original_df.columns"
   ]
  },
  {
   "cell_type": "code",
   "execution_count": 5,
   "metadata": {},
   "outputs": [
    {
     "data": {
      "text/html": [
       "<div>\n",
       "<style>\n",
       "    .dataframe thead tr:only-child th {\n",
       "        text-align: right;\n",
       "    }\n",
       "\n",
       "    .dataframe thead th {\n",
       "        text-align: left;\n",
       "    }\n",
       "\n",
       "    .dataframe tbody tr th {\n",
       "        vertical-align: top;\n",
       "    }\n",
       "</style>\n",
       "<table border=\"1\" class=\"dataframe\">\n",
       "  <thead>\n",
       "    <tr style=\"text-align: right;\">\n",
       "      <th></th>\n",
       "      <th>Age</th>\n",
       "      <th>Gender</th>\n",
       "      <th>Item ID</th>\n",
       "      <th>Item Name</th>\n",
       "      <th>Price</th>\n",
       "      <th>SN</th>\n",
       "    </tr>\n",
       "  </thead>\n",
       "  <tbody>\n",
       "    <tr>\n",
       "      <th>0</th>\n",
       "      <td>38</td>\n",
       "      <td>Male</td>\n",
       "      <td>165</td>\n",
       "      <td>Bone Crushing Silver Skewer</td>\n",
       "      <td>3.37</td>\n",
       "      <td>Aelalis34</td>\n",
       "    </tr>\n",
       "    <tr>\n",
       "      <th>1</th>\n",
       "      <td>21</td>\n",
       "      <td>Male</td>\n",
       "      <td>119</td>\n",
       "      <td>Stormbringer, Dark Blade of Ending Misery</td>\n",
       "      <td>2.32</td>\n",
       "      <td>Eolo46</td>\n",
       "    </tr>\n",
       "    <tr>\n",
       "      <th>2</th>\n",
       "      <td>34</td>\n",
       "      <td>Male</td>\n",
       "      <td>174</td>\n",
       "      <td>Primitive Blade</td>\n",
       "      <td>2.46</td>\n",
       "      <td>Assastnya25</td>\n",
       "    </tr>\n",
       "    <tr>\n",
       "      <th>3</th>\n",
       "      <td>21</td>\n",
       "      <td>Male</td>\n",
       "      <td>92</td>\n",
       "      <td>Final Critic</td>\n",
       "      <td>1.36</td>\n",
       "      <td>Pheusrical25</td>\n",
       "    </tr>\n",
       "    <tr>\n",
       "      <th>4</th>\n",
       "      <td>23</td>\n",
       "      <td>Male</td>\n",
       "      <td>63</td>\n",
       "      <td>Stormfury Mace</td>\n",
       "      <td>1.27</td>\n",
       "      <td>Aela59</td>\n",
       "    </tr>\n",
       "  </tbody>\n",
       "</table>\n",
       "</div>"
      ],
      "text/plain": [
       "   Age Gender  Item ID                                  Item Name  Price  \\\n",
       "0   38   Male      165                Bone Crushing Silver Skewer   3.37   \n",
       "1   21   Male      119  Stormbringer, Dark Blade of Ending Misery   2.32   \n",
       "2   34   Male      174                            Primitive Blade   2.46   \n",
       "3   21   Male       92                               Final Critic   1.36   \n",
       "4   23   Male       63                             Stormfury Mace   1.27   \n",
       "\n",
       "             SN  \n",
       "0     Aelalis34  \n",
       "1        Eolo46  \n",
       "2   Assastnya25  \n",
       "3  Pheusrical25  \n",
       "4        Aela59  "
      ]
     },
     "execution_count": 5,
     "metadata": {},
     "output_type": "execute_result"
    }
   ],
   "source": [
    "Heroes_original_df.head()"
   ]
  },
  {
   "cell_type": "code",
   "execution_count": 6,
   "metadata": {},
   "outputs": [
    {
     "data": {
      "text/plain": [
       "Male                     633\n",
       "Female                   136\n",
       "Other / Non-Disclosed     11\n",
       "Name: Gender, dtype: int64"
      ]
     },
     "execution_count": 6,
     "metadata": {},
     "output_type": "execute_result"
    }
   ],
   "source": [
    "Heroes_original_df['Gender'].value_counts()"
   ]
  },
  {
   "cell_type": "markdown",
   "metadata": {},
   "source": [
    "## Total Number of Players"
   ]
  },
  {
   "cell_type": "code",
   "execution_count": 7,
   "metadata": {},
   "outputs": [
    {
     "data": {
      "text/html": [
       "<div>\n",
       "<style>\n",
       "    .dataframe thead tr:only-child th {\n",
       "        text-align: right;\n",
       "    }\n",
       "\n",
       "    .dataframe thead th {\n",
       "        text-align: left;\n",
       "    }\n",
       "\n",
       "    .dataframe tbody tr th {\n",
       "        vertical-align: top;\n",
       "    }\n",
       "</style>\n",
       "<table border=\"1\" class=\"dataframe\">\n",
       "  <thead>\n",
       "    <tr style=\"text-align: right;\">\n",
       "      <th></th>\n",
       "      <th>Total Players</th>\n",
       "    </tr>\n",
       "  </thead>\n",
       "  <tbody>\n",
       "    <tr>\n",
       "      <th>0</th>\n",
       "      <td>573</td>\n",
       "    </tr>\n",
       "  </tbody>\n",
       "</table>\n",
       "</div>"
      ],
      "text/plain": [
       "   Total Players\n",
       "0            573"
      ]
     },
     "execution_count": 7,
     "metadata": {},
     "output_type": "execute_result"
    }
   ],
   "source": [
    "# Total Number of Players\n",
    "Total_no_of_players = pd.DataFrame([Heroes_original_df['SN'].nunique()],\n",
    "                                   columns = ['Total Players'])\n",
    "Total_no_of_players"
   ]
  },
  {
   "cell_type": "markdown",
   "metadata": {},
   "source": [
    "## Purchasing Analysis (Total)"
   ]
  },
  {
   "cell_type": "code",
   "execution_count": 8,
   "metadata": {},
   "outputs": [
    {
     "data": {
      "text/html": [
       "<div>\n",
       "<style>\n",
       "    .dataframe thead tr:only-child th {\n",
       "        text-align: right;\n",
       "    }\n",
       "\n",
       "    .dataframe thead th {\n",
       "        text-align: left;\n",
       "    }\n",
       "\n",
       "    .dataframe tbody tr th {\n",
       "        vertical-align: top;\n",
       "    }\n",
       "</style>\n",
       "<table border=\"1\" class=\"dataframe\">\n",
       "  <thead>\n",
       "    <tr style=\"text-align: right;\">\n",
       "      <th></th>\n",
       "      <th>No of Unique Items</th>\n",
       "      <th>Average Price</th>\n",
       "      <th>Number of Purchases</th>\n",
       "      <th>Total Revenue</th>\n",
       "    </tr>\n",
       "  </thead>\n",
       "  <tbody>\n",
       "    <tr>\n",
       "      <th>0</th>\n",
       "      <td>179</td>\n",
       "      <td>$2.93</td>\n",
       "      <td>780</td>\n",
       "      <td>$2286.33</td>\n",
       "    </tr>\n",
       "  </tbody>\n",
       "</table>\n",
       "</div>"
      ],
      "text/plain": [
       "   No of Unique Items Average Price  Number of Purchases Total Revenue\n",
       "0                 179         $2.93                  780      $2286.33"
      ]
     },
     "execution_count": 8,
     "metadata": {},
     "output_type": "execute_result"
    }
   ],
   "source": [
    "Purchasing_analysis_total = pd.DataFrame([[Heroes_original_df['Item Name'].nunique(), Heroes_original_df['Price'].mean(),\n",
    "                                     Heroes_original_df['Item Name'].count(),Heroes_original_df['Price'].sum()]],\n",
    "                                   columns = ['No of Unique Items','Average Price','Number of Purchases','Total Revenue']\n",
    "                                  )\n",
    "Purchasing_analysis_total['Average Price'] = Purchasing_analysis_total['Average Price'].map(\"${:.2f}\".format)\n",
    "Purchasing_analysis_total['Total Revenue'] = Purchasing_analysis_total['Total Revenue'].map(\"${:.2f}\".format)\n",
    "\n",
    "Purchasing_analysis_total\n"
   ]
  },
  {
   "cell_type": "markdown",
   "metadata": {},
   "source": [
    "### Gender Demographics"
   ]
  },
  {
   "cell_type": "code",
   "execution_count": 9,
   "metadata": {},
   "outputs": [
    {
     "data": {
      "text/html": [
       "<div>\n",
       "<style>\n",
       "    .dataframe thead tr:only-child th {\n",
       "        text-align: right;\n",
       "    }\n",
       "\n",
       "    .dataframe thead th {\n",
       "        text-align: left;\n",
       "    }\n",
       "\n",
       "    .dataframe tbody tr th {\n",
       "        vertical-align: top;\n",
       "    }\n",
       "</style>\n",
       "<table border=\"1\" class=\"dataframe\">\n",
       "  <thead>\n",
       "    <tr style=\"text-align: right;\">\n",
       "      <th></th>\n",
       "      <th>Percentage of Players</th>\n",
       "      <th>Total Count</th>\n",
       "    </tr>\n",
       "    <tr>\n",
       "      <th>Gender</th>\n",
       "      <th></th>\n",
       "      <th></th>\n",
       "    </tr>\n",
       "  </thead>\n",
       "  <tbody>\n",
       "    <tr>\n",
       "      <th>Male</th>\n",
       "      <td>81.0</td>\n",
       "      <td>465</td>\n",
       "    </tr>\n",
       "    <tr>\n",
       "      <th>Female</th>\n",
       "      <td>17.0</td>\n",
       "      <td>100</td>\n",
       "    </tr>\n",
       "    <tr>\n",
       "      <th>Other / Non-Disclosed</th>\n",
       "      <td>1.0</td>\n",
       "      <td>8</td>\n",
       "    </tr>\n",
       "  </tbody>\n",
       "</table>\n",
       "</div>"
      ],
      "text/plain": [
       "                       Percentage of Players  Total Count\n",
       "Gender                                                   \n",
       "Male                                    81.0          465\n",
       "Female                                  17.0          100\n",
       "Other / Non-Disclosed                    1.0            8"
      ]
     },
     "execution_count": 9,
     "metadata": {},
     "output_type": "execute_result"
    }
   ],
   "source": [
    "Gender_Demographics = pd.DataFrame(Heroes_original_df.groupby('Gender').SN.nunique())\n",
    "Gender_Demographics.columns = ['Total Count']\n",
    "Gender_Demographics['Percentage of Players'] = round(Gender_Demographics['Total Count']/Heroes_original_df['SN'].nunique()*100)\n",
    "Gender_Demographics = Gender_Demographics[['Percentage of Players','Total Count']]\n",
    "Gender_Demographics.sort_values('Total Count', ascending = False)"
   ]
  },
  {
   "cell_type": "markdown",
   "metadata": {},
   "source": [
    "### Purchasing Analysis (Gender)\n"
   ]
  },
  {
   "cell_type": "code",
   "execution_count": 11,
   "metadata": {},
   "outputs": [
    {
     "data": {
      "text/html": [
       "<div>\n",
       "<style>\n",
       "    .dataframe thead tr:only-child th {\n",
       "        text-align: right;\n",
       "    }\n",
       "\n",
       "    .dataframe thead th {\n",
       "        text-align: left;\n",
       "    }\n",
       "\n",
       "    .dataframe tbody tr th {\n",
       "        vertical-align: top;\n",
       "    }\n",
       "</style>\n",
       "<table border=\"1\" class=\"dataframe\">\n",
       "  <thead>\n",
       "    <tr style=\"text-align: right;\">\n",
       "      <th></th>\n",
       "      <th>Purchase Count</th>\n",
       "      <th>Average Purchase Price</th>\n",
       "      <th>Total Purchase Price</th>\n",
       "      <th>Normalized Totals</th>\n",
       "    </tr>\n",
       "    <tr>\n",
       "      <th>Gender</th>\n",
       "      <th></th>\n",
       "      <th></th>\n",
       "      <th></th>\n",
       "      <th></th>\n",
       "    </tr>\n",
       "  </thead>\n",
       "  <tbody>\n",
       "    <tr>\n",
       "      <th>Female</th>\n",
       "      <td>100</td>\n",
       "      <td>$2.82</td>\n",
       "      <td>$382.91</td>\n",
       "      <td>$3.83</td>\n",
       "    </tr>\n",
       "    <tr>\n",
       "      <th>Male</th>\n",
       "      <td>465</td>\n",
       "      <td>$2.95</td>\n",
       "      <td>$1867.68</td>\n",
       "      <td>$4.02</td>\n",
       "    </tr>\n",
       "    <tr>\n",
       "      <th>Other / Non-Disclosed</th>\n",
       "      <td>8</td>\n",
       "      <td>$3.25</td>\n",
       "      <td>$35.74</td>\n",
       "      <td>$4.47</td>\n",
       "    </tr>\n",
       "  </tbody>\n",
       "</table>\n",
       "</div>"
      ],
      "text/plain": [
       "                       Purchase Count Average Purchase Price  \\\n",
       "Gender                                                         \n",
       "Female                            100                  $2.82   \n",
       "Male                              465                  $2.95   \n",
       "Other / Non-Disclosed               8                  $3.25   \n",
       "\n",
       "                      Total Purchase Price Normalized Totals  \n",
       "Gender                                                        \n",
       "Female                             $382.91             $3.83  \n",
       "Male                              $1867.68             $4.02  \n",
       "Other / Non-Disclosed               $35.74             $4.47  "
      ]
     },
     "execution_count": 11,
     "metadata": {},
     "output_type": "execute_result"
    }
   ],
   "source": [
    "Purchasing_analysis_gender = pd.DataFrame(Heroes_original_df.groupby(['Gender']).SN.nunique())\n",
    "Purchasing_analysis_gender.columns = ['Purchase Count']\n",
    "Purchasing_analysis_gender['Average Purchase Price'] = Heroes_original_df.groupby(['Gender']).Price.mean()\n",
    "Purchasing_analysis_gender['Total Purchase Price'] = Heroes_original_df.groupby(['Gender']).Price.sum()\n",
    "Purchasing_analysis_gender['Normalized Totals'] = Purchasing_analysis_gender['Total Purchase Price'] / Purchasing_analysis_gender['Purchase Count']\n",
    "Purchasing_analysis_gender['Average Purchase Price'] = Purchasing_analysis_gender['Average Purchase Price'].map(\"${:.2f}\".format)\n",
    "Purchasing_analysis_gender['Total Purchase Price'] = Purchasing_analysis_gender['Total Purchase Price'].map(\"${:.2f}\".format)\n",
    "Purchasing_analysis_gender['Normalized Totals'] = Purchasing_analysis_gender['Normalized Totals'].map(\"${:.2f}\".format)\n",
    "Purchasing_analysis_gender"
   ]
  },
  {
   "cell_type": "markdown",
   "metadata": {
    "collapsed": true
   },
   "source": [
    "### Age Demographics"
   ]
  },
  {
   "cell_type": "code",
   "execution_count": 12,
   "metadata": {},
   "outputs": [
    {
     "data": {
      "text/html": [
       "<div>\n",
       "<style>\n",
       "    .dataframe thead tr:only-child th {\n",
       "        text-align: right;\n",
       "    }\n",
       "\n",
       "    .dataframe thead th {\n",
       "        text-align: left;\n",
       "    }\n",
       "\n",
       "    .dataframe tbody tr th {\n",
       "        vertical-align: top;\n",
       "    }\n",
       "</style>\n",
       "<table border=\"1\" class=\"dataframe\">\n",
       "  <thead>\n",
       "    <tr style=\"text-align: right;\">\n",
       "      <th></th>\n",
       "      <th>Percentage Of Players</th>\n",
       "      <th>Total Count</th>\n",
       "    </tr>\n",
       "    <tr>\n",
       "      <th>Age Limits</th>\n",
       "      <th></th>\n",
       "      <th></th>\n",
       "    </tr>\n",
       "  </thead>\n",
       "  <tbody>\n",
       "    <tr>\n",
       "      <th>&lt;10</th>\n",
       "      <td>3.32</td>\n",
       "      <td>19</td>\n",
       "    </tr>\n",
       "    <tr>\n",
       "      <th>10-14</th>\n",
       "      <td>4.01</td>\n",
       "      <td>23</td>\n",
       "    </tr>\n",
       "    <tr>\n",
       "      <th>15-19</th>\n",
       "      <td>17.45</td>\n",
       "      <td>100</td>\n",
       "    </tr>\n",
       "    <tr>\n",
       "      <th>20-24</th>\n",
       "      <td>45.20</td>\n",
       "      <td>259</td>\n",
       "    </tr>\n",
       "    <tr>\n",
       "      <th>25-29</th>\n",
       "      <td>15.18</td>\n",
       "      <td>87</td>\n",
       "    </tr>\n",
       "    <tr>\n",
       "      <th>30-34</th>\n",
       "      <td>8.20</td>\n",
       "      <td>47</td>\n",
       "    </tr>\n",
       "    <tr>\n",
       "      <th>35-39</th>\n",
       "      <td>4.71</td>\n",
       "      <td>27</td>\n",
       "    </tr>\n",
       "    <tr>\n",
       "      <th>40+</th>\n",
       "      <td>1.92</td>\n",
       "      <td>11</td>\n",
       "    </tr>\n",
       "  </tbody>\n",
       "</table>\n",
       "</div>"
      ],
      "text/plain": [
       "            Percentage Of Players  Total Count\n",
       "Age Limits                                    \n",
       "<10                          3.32           19\n",
       "10-14                        4.01           23\n",
       "15-19                       17.45          100\n",
       "20-24                       45.20          259\n",
       "25-29                       15.18           87\n",
       "30-34                        8.20           47\n",
       "35-39                        4.71           27\n",
       "40+                          1.92           11"
      ]
     },
     "execution_count": 12,
     "metadata": {},
     "output_type": "execute_result"
    }
   ],
   "source": [
    "ranges = [ (0,10),(10,15), (15, 20), (20, 25),(25,30),(30,35),(35,40) ]\n",
    "Age_ranges = ['<10','10-14','15-19','20-24','25-29','30-34','35-39','40+']\n",
    "Age_ranges_count = []\n",
    "Age_ranges_count.append(Heroes_original_df.loc[Heroes_original_df['Age'] < 10].SN.nunique())\n",
    "Age_ranges_count.append(Heroes_original_df.loc[Heroes_original_df['Age'].isin(range(10,15))].SN.nunique())\n",
    "Age_ranges_count.append(Heroes_original_df.loc[Heroes_original_df['Age'].isin(range(15,20))].SN.nunique())\n",
    "Age_ranges_count.append(Heroes_original_df.loc[Heroes_original_df['Age'].isin(range(20,25))].SN.nunique())\n",
    "Age_ranges_count.append(Heroes_original_df.loc[Heroes_original_df['Age'].isin(range(25,30))].SN.nunique())\n",
    "Age_ranges_count.append(Heroes_original_df.loc[Heroes_original_df['Age'].isin(range(30,35))].SN.nunique())\n",
    "Age_ranges_count.append(Heroes_original_df.loc[Heroes_original_df['Age'].isin(range(35,40))].SN.nunique())\n",
    "Age_ranges_count.append(Heroes_original_df.loc[Heroes_original_df['Age'] >= 40].SN.nunique())\n",
    "Age_demographics = pd.DataFrame(list(zip(Age_ranges_count)),index=Age_ranges)\n",
    "Age_demographics.index.name = 'Age Limits'\n",
    "Age_demographics.columns = ['Total Count']\n",
    "Age_demographics['Percentage Of Players'] = round(((Age_demographics['Total Count'] / Heroes_original_df['SN'].nunique()) * 100),2)\n",
    "Age_demographics = Age_demographics[['Percentage Of Players','Total Count']]\n",
    "Age_demographics"
   ]
  },
  {
   "cell_type": "markdown",
   "metadata": {},
   "source": [
    "### Purchasing Analysis (Age)"
   ]
  },
  {
   "cell_type": "code",
   "execution_count": 13,
   "metadata": {},
   "outputs": [
    {
     "data": {
      "text/plain": [
       "[83.46000000000001,\n",
       " 96.94999999999999,\n",
       " 386.41999999999996,\n",
       " 978.7700000000001,\n",
       " 370.33,\n",
       " 197.24999999999994,\n",
       " 119.4,\n",
       " 53.75]"
      ]
     },
     "execution_count": 13,
     "metadata": {},
     "output_type": "execute_result"
    }
   ],
   "source": [
    "Age_ranges_mean = []\n",
    "Age_ranges_mean.append(Heroes_original_df.loc[Heroes_original_df['Age'] < 10].Price.mean())\n",
    "Age_ranges_mean.append(Heroes_original_df.loc[Heroes_original_df['Age'].isin(range(10,15))].Price.mean())\n",
    "Age_ranges_mean.append(Heroes_original_df.loc[Heroes_original_df['Age'].isin(range(15,20))].Price.mean())\n",
    "Age_ranges_mean.append(Heroes_original_df.loc[Heroes_original_df['Age'].isin(range(20,25))].Price.mean())\n",
    "Age_ranges_mean.append(Heroes_original_df.loc[Heroes_original_df['Age'].isin(range(25,30))].Price.mean())\n",
    "Age_ranges_mean.append(Heroes_original_df.loc[Heroes_original_df['Age'].isin(range(30,35))].Price.mean())\n",
    "Age_ranges_mean.append(Heroes_original_df.loc[Heroes_original_df['Age'].isin(range(35,40))].Price.mean())\n",
    "Age_ranges_mean.append(Heroes_original_df.loc[Heroes_original_df['Age'] >= 40].Price.mean())\n",
    "\n",
    "Age_ranges_sum = []\n",
    "Age_ranges_sum.append(Heroes_original_df.loc[Heroes_original_df['Age'] < 10].Price.sum())\n",
    "Age_ranges_sum.append(Heroes_original_df.loc[Heroes_original_df['Age'].isin(range(10,15))].Price.sum())\n",
    "Age_ranges_sum.append(Heroes_original_df.loc[Heroes_original_df['Age'].isin(range(15,20))].Price.sum())\n",
    "Age_ranges_sum.append(Heroes_original_df.loc[Heroes_original_df['Age'].isin(range(20,25))].Price.sum())\n",
    "Age_ranges_sum.append(Heroes_original_df.loc[Heroes_original_df['Age'].isin(range(25,30))].Price.sum())\n",
    "Age_ranges_sum.append(Heroes_original_df.loc[Heroes_original_df['Age'].isin(range(30,35))].Price.sum())\n",
    "Age_ranges_sum.append(Heroes_original_df.loc[Heroes_original_df['Age'].isin(range(35,40))].Price.sum())\n",
    "Age_ranges_sum.append(Heroes_original_df.loc[Heroes_original_df['Age'] >= 40].Price.sum())\n",
    "\n",
    "Age_ranges_count = []\n",
    "Age_ranges_count.append(Heroes_original_df.loc[Heroes_original_df['Age'] < 10].SN.count())\n",
    "Age_ranges_count.append(Heroes_original_df.loc[Heroes_original_df['Age'].isin(range(10,15))].SN.count())\n",
    "Age_ranges_count.append(Heroes_original_df.loc[Heroes_original_df['Age'].isin(range(15,20))].SN.count())\n",
    "Age_ranges_count.append(Heroes_original_df.loc[Heroes_original_df['Age'].isin(range(20,25))].SN.count())\n",
    "Age_ranges_count.append(Heroes_original_df.loc[Heroes_original_df['Age'].isin(range(25,30))].SN.count())\n",
    "Age_ranges_count.append(Heroes_original_df.loc[Heroes_original_df['Age'].isin(range(30,35))].SN.count())\n",
    "Age_ranges_count.append(Heroes_original_df.loc[Heroes_original_df['Age'].isin(range(35,40))].SN.count())\n",
    "Age_ranges_count.append(Heroes_original_df.loc[Heroes_original_df['Age'] >= 40].SN.count())\n",
    "\n",
    "Age_ranges_count\n",
    "Age_ranges_mean\n",
    "Age_ranges_sum\n"
   ]
  },
  {
   "cell_type": "code",
   "execution_count": null,
   "metadata": {
    "collapsed": true
   },
   "outputs": [],
   "source": []
  }
 ],
 "metadata": {
  "kernelspec": {
   "display_name": "Python [default]",
   "language": "python",
   "name": "python3"
  },
  "language_info": {
   "codemirror_mode": {
    "name": "ipython",
    "version": 3
   },
   "file_extension": ".py",
   "mimetype": "text/x-python",
   "name": "python",
   "nbconvert_exporter": "python",
   "pygments_lexer": "ipython3",
   "version": "3.6.2"
  }
 },
 "nbformat": 4,
 "nbformat_minor": 2
}
